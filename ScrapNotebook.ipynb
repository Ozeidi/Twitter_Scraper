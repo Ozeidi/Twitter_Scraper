{
 "cells": [
  {
   "cell_type": "code",
   "execution_count": 1,
   "metadata": {},
   "outputs": [
    {
     "output_type": "error",
     "ename": "ModuleNotFoundError",
     "evalue": "No module named 'pyautogui'",
     "traceback": [
      "\u001b[1;31m---------------------------------------------------------------------------\u001b[0m",
      "\u001b[1;31mModuleNotFoundError\u001b[0m                       Traceback (most recent call last)",
      "\u001b[1;32m<ipython-input-1-588faf9a8e52>\u001b[0m in \u001b[0;36m<module>\u001b[1;34m\u001b[0m\n\u001b[0;32m      6\u001b[0m \u001b[1;32mfrom\u001b[0m \u001b[0mselenium\u001b[0m\u001b[1;33m.\u001b[0m\u001b[0mwebdriver\u001b[0m\u001b[1;33m.\u001b[0m\u001b[0mcommon\u001b[0m\u001b[1;33m.\u001b[0m\u001b[0mkeys\u001b[0m \u001b[1;32mimport\u001b[0m \u001b[0mKeys\u001b[0m\u001b[1;33m\u001b[0m\u001b[1;33m\u001b[0m\u001b[0m\n\u001b[0;32m      7\u001b[0m \u001b[1;32mfrom\u001b[0m \u001b[0mbs4\u001b[0m \u001b[1;32mimport\u001b[0m \u001b[0mBeautifulSoup\u001b[0m\u001b[1;33m\u001b[0m\u001b[1;33m\u001b[0m\u001b[0m\n\u001b[1;32m----> 8\u001b[1;33m \u001b[1;32mimport\u001b[0m \u001b[0mpyautogui\u001b[0m\u001b[1;33m\u001b[0m\u001b[1;33m\u001b[0m\u001b[0m\n\u001b[0m\u001b[0;32m      9\u001b[0m \u001b[1;32mfrom\u001b[0m \u001b[0mtkinter\u001b[0m \u001b[1;32mimport\u001b[0m \u001b[0mfiledialog\u001b[0m\u001b[1;33m,\u001b[0m \u001b[0mTk\u001b[0m\u001b[1;33m\u001b[0m\u001b[1;33m\u001b[0m\u001b[0m\n\u001b[0;32m     10\u001b[0m \u001b[1;32mimport\u001b[0m \u001b[0mtkinter\u001b[0m\u001b[1;33m.\u001b[0m\u001b[0mmessagebox\u001b[0m \u001b[1;32mas\u001b[0m \u001b[0mtm\u001b[0m\u001b[1;33m\u001b[0m\u001b[1;33m\u001b[0m\u001b[0m\n",
      "\u001b[1;31mModuleNotFoundError\u001b[0m: No module named 'pyautogui'"
     ]
    }
   ],
   "source": [
    "import time\n",
    "import random\n",
    "from selenium import webdriver\n",
    "from selenium.webdriver.chrome.options import Options\n",
    "from selenium.common.exceptions import TimeoutException\n",
    "from selenium.webdriver.common.keys import Keys\n",
    "from bs4 import BeautifulSoup\n",
    "import pyautogui\n",
    "from tkinter import filedialog, Tk\n",
    "import tkinter.messagebox as tm\n",
    "import os\n",
    "from urllib.request import urlopen\n",
    "import pandas as pd\n",
    "import numpy as np\n",
    "import requests\n",
    "import csv\n",
    "import datetime\n",
    "import json\n",
    "import login\n",
    "\n",
    "\n",
    "#attributed from: https://gist.github.com/alinazhanguwo/a54f28f1fd9335dc69f7c32dd7a75b12#file-flatten_json_recursively-py\n",
    "def flatten_json(nested_json):\n",
    "    \"\"\"\n",
    "        Flatten json object with nested keys into a single level.\n",
    "        Args:\n",
    "            nested_json: A nested json object.\n",
    "        Returns:\n",
    "            The flattened json object if successful, None otherwise.\n",
    "    \"\"\"\n",
    "    out = {}\n",
    "\n",
    "    def flatten(x, name=''):\n",
    "        if type(x) is dict:\n",
    "            for a in x:\n",
    "                flatten(x[a], name + a + '_')\n",
    "        elif type(x) is list:\n",
    "            i = 0\n",
    "            for a in x:\n",
    "                flatten(a, name + str(i) + '_')\n",
    "                i += 1\n",
    "        else:\n",
    "            out[name[:-1]] = x\n",
    "\n",
    "    flatten(nested_json)\n",
    "    return out\n"
   ]
  },
  {
   "cell_type": "code",
   "execution_count": 3,
   "metadata": {},
   "outputs": [],
   "source": [
    "dirpath = os.getcwd()\n",
    "options = Options()\n",
    "options.add_argument(\"--start-maximized\")\n",
    "options.add_argument(\"--ignore-certificate-errors\")\n",
    "options.add_argument(\"user-agent=Chrome/51.0.2704.79 Safari/537.36 Edge/14.14393\")\n",
    "#options.add_argument('--headless')\n",
    "options.add_argument('--no-sandbox')\n",
    "#options.add_argument('--disable-gpu')\n",
    "#options.add_argument('disable-infobars')\n",
    "options.add_argument(\"--disable-extensions\")\n",
    "browser = webdriver.Chrome(chrome_options=options, executable_path = dirpath + \"/chromedriver.exe\")"
   ]
  },
  {
   "cell_type": "code",
   "execution_count": 4,
   "metadata": {},
   "outputs": [],
   "source": [
    "browser.get(\"https://om.linkedin.com/jobs/view/department-supervisor-at-element-materials-technology-1639938573?refId=b5c49a3b-d9e8-4db1-96a6-88eabc97abcc&position=3&pageNum=0&trk=guest_job_search_job-result-card_result-card_full-click\")"
   ]
  },
  {
   "cell_type": "code",
   "execution_count": 5,
   "metadata": {},
   "outputs": [],
   "source": [
    "page = BeautifulSoup(browser.page_source, 'lxml')"
   ]
  },
  {
   "cell_type": "code",
   "execution_count": 6,
   "metadata": {},
   "outputs": [
    {
     "name": "stdout",
     "output_type": "stream",
     "text": "tion, Industrials, Fire and Building product, Infrastructure and other leading sectors, where failure in service is simply not an option.\\u003Cbr\\u003E\\u003Cbr\\u003EEverything we do helps our customers to build better products; get their products to market on time; save them time and money; and minimize the risk associated with product development and production.\\u003Cbr\\u003E\\u003Cbr\\u003EOur mission is simple: to be the best testing partner in the world and together we strive towards a common vision of becoming the world’s most trusted testing partner.\\u003Cbr\\u003E\\u003Cbr\\u003EWe have four values that we strive to live by every single day.\\u003Cbr\\u003E\\u003Cul\\u003E\\u003Cli\\u003ESafety - We keep our colleagues and visitors safe\\u003C/li\\u003E\\u003Cli\\u003EIntegrity - We act honestly and fairly to do the right thing\\u003C/li\\u003E\\u003Cli\\u003EExcellence - We set new standards of excellence in everything we do\\u003C/li\\u003E\\u003Cli\\u003EPartnership - We work together for the benefit of our customers\\u003Cbr\\u003E\\u003C/li\\u003E\\u003C/ul\\u003EWhen combined with our mission and vision, the ethos this creates, enables Element to deliver one thing. CERTAINTY. We exist to help make certain that the materials and products we test, inspect, certify and calibrate for our customers are safe, quality, compliant and fit for purpose.\\u003Cbr\\u003E\\u003Cbr\\u003E\\u003Cstrong\\u003E Diversity Statement \\u003Cbr\\u003E\\u003Cbr\\u003E\\u003C/strong\\u003EAt Element, we always take pride in putting our people first. We are an equal opportunity employer that recognizes diversity and inclusion as fundamental to our Vision of becoming “the world’s most trusted testing partner”.\\u003Cbr\\u003E\\u003Cbr\\u003EAll suitably qualified candidates will receive consideration for employment on the basis of objective work related criteria and without regard for the following: race, colour, age, religion, gender, national origin, disability, and/or protected veteran status, or other characteristics in accordance with the applicable governing laws.\\u003Cbr\\u003E\\u003Cbr\\u003E\\u003Cstrong\\u003EOptions\\u003Cbr\\u003E\\u003Cbr\\u003E\\u003C/strong\\u003EApply for this job online Apply\\u003Cbr\\u003E\\u003Cbr\\u003EShare\\u003Cbr\\u003E\\u003Cbr\\u003EEmail this job to a friend Refer\\u003Cbr\\u003E\\u003Cbr\\u003ESorry the Share function is not working properly at this moment. Please refresh the page and try again later.\\u003Cbr\\u003E\\u003Cbr\\u003EShare on your newsfeed\",\"employmentType\":\"OTHER\",\"experienceRequirements\":\"مستوى متوسط الأقدمية\",\"hiringOrganization\":{\"@type\":\"Organization\",\"name\":\"Element Materials Technology\",\"sameAs\":\"https://uk.linkedin.com/company/element-materials-technology\",\"logo\":\"https://media.licdn.com/dms/image/C4E0BAQEDPfkksH8Fdg/company-logo_100_100/0?e=1584576000&amp;v=beta&amp;t=Fc_63T3umXVuHzvpbT-lLxT-TSWXBpSF_6OssXJgoG0\"},\"identifier\":{\"@type\":\"PropertyValue\",\"name\":\"Element Materials Technology\",\"value\":\"4815\"},\"image\":\"https://media.licdn.com/dms/image/C4E0BAQEDPfkksH8Fdg/company-logo_100_100/0?e=1584576000&amp;v=beta&amp;t=Fc_63T3umXVuHzvpbT-lLxT-TSWXBpSF_6OssXJgoG0\",\"industry\":\"التصنيع الكهربائي والإلكتروني,الآلات,الموظفون والتوظيف\",\"jobLocation\":{\"@type\":\"Place\",\"address\":{\"@type\":\"PostalAddress\",\"streetAddress\":null,\"addressLocality\":null,\"addressRegion\":null,\"postalCode\":\"99999\",\"addressCountry\":\"OM\"}},\"skills\":\"\",\"title\":\"Department Supervisor\",\"validThrough\":\"2020-01-15T13:35:21.000Z\"}\n{\"@context\":\"http://schema.org\",\"@type\":\"JobPosting\",\"datePosted\":\"2019-12-16T12:51:47.000Z\",\"description\":\"\\u003Cstrong\\u003E\\u003Cu\\u003EOverview\\u003Cbr\\u003E\\u003Cbr\\u003E\\u003C/u\\u003E\\u003C/strong\\u003EElement has an opportunity for a \\u003Cstrong\\u003EDepartment Supervisor\\u003C/strong\\u003E. The Department Supervisor is a key member of the department's safety team and provides awareness around safety first. You will be relied upon heavily by other colleagues such as technicians, peers, Department Manager, Operations Manager, General Manager and other positions. In this role you will guide the technical staff in timely completion of daily work and may be designated as the main contact for customer on-site visits.\\u003Cbr\\u003E\\u003Cbr\\u003EPosition will be located in Duqm , Oman\\u003Cbr\\u003E\\u003Cbr\\u003E\\u003Cstrong\\u003E\\u003Cu\\u003EResponsibilities\\u003Cbr\\u003E\\u003C/u\\u003E\\u003C/strong\\u003E\\u003Cul\\u003E\\u003Cli\\u003EP&amp;amp;L responsibility for Duqm area\\u003C/li\\u003E\\u003Cli\\u003EBusiness Development responsibility for Duqm area\\u003C/li\\u003E\\u003Cli\\u003EBudget and Sales Plan development and execution for Duqm area\\u003C/li\\u003E\\u003Cli\\u003EProvide professional and timely customer service to both internal and external customers\\u003C/li\\u003E\\u003Cli\\u003EEnsure customer satisfaction through daily interaction with technicians and execution of operational jobs.\\u003C/li\\u003E\\u003Cli\\u003EProvide direct supervision of lab technical staff\\u003C/li\\u003E\\u003Cli\\u003EProvide status updates, quote assistance and other internal and external customer service responsibilities as needed\\u003C/li\\u003E\\u003Cli\\u003EWork with department supervisors, technical experts, or technicians at the local laboratory to obtain input and assist in the creation for testing scope, delivery of items needed from other support departments within the location (i.e.: design, machine shop on fixture design and creation)\\u003C/li\\u003E\\u003Cli\\u003EAssist in providing complex quotations and provide quick and accurate quotations or be part of the team that provides quotes to customers\\u003C/li\\u003E\\u003Cli\\u003EUnder the direction of the assigned Department Manager, may participate and contribute in perform supervisory responsibilities to include hiring decisions, performance management input, decisions and execution, and approval of overtime and time cards.\\u003C/li\\u003E\\u003Cli\\u003EUnderstand the customer needs in order to translate and deliver desired customer results\\u003C/li\\u003E\\u003Cli\\u003EAdhere to, support and follow all Element safety guidelines\\u003C/li\\u003E\\u003Cli\\u003EProject management, employee development, discipline, other transactional duties associated with this role\\u003Cbr\\u003E\\u003Cbr\\u003E\\u003C/li\\u003E\\u003C/ul\\u003E\\u003Cstrong\\u003E\\u003Cu\\u003ESkills / Qualifications\\u003Cbr\\u003E\\u003C/u\\u003E\\u003C/strong\\u003E\\u003Cul\\u003E\\u003Cli\\u003EA bachelor’s degree in a technical field and college level courses completed or a minimum of 3 years’ experience in a supervisory role in an industry similar or related to the Testing, Inspection and Certification (TIC) industry with a diploma or GED certificate preferred\\u003C/li\\u003E\\u003Cli\\u003EWorking knowledge of laboratory safety\\u003C/li\\u003E\\u003Cli\\u003EStrong computer skills and basic mathematical skills with the ability to apply concepts of basic algebra and geometry a plus\\u003C/li\\u003E\\u003Cli\\u003EAbility to lift &amp;lt;50 lbs. often and &amp;gt; 50 lbs. on occasion and stand on feet for long periods of time\\u003C/li\\u003E\\u003Cli\\u003EAbility to work primarily alone and make independent decisions during the course of the work day\\u003C/li\\u003E\\u003Cli\\u003EAbility to communicate and demonstrate the importance of meeting all applicable requirements of assigned department\\u003C/li\\u003E\\u003Cli\\u003EProven ability to read, understand and interpret program or test requirements and have ability to analyse and translate into finished testing or report data\\u003C/li\\u003E\\u003Cli\\u003EExcellent communication skills and telephone etiquette\\u003C/li\\u003E\\u003Cli\\u003EHigh impact of experience on the business at the local commercial, technical and operational level \\u003C/li\\u003E\\u003Cli\\u003EProven and recognized ability to provide accurate and timely status reports to internal and external customers\\u003Cbr\\u003E\\u003Cbr\\u003E\\u003C/li\\u003E\\u003C/ul\\u003E\\u003Cstrong\\u003E\\u003Cu\\u003ECompany Overview\\u003Cbr\\u003E\\u003Cbr\\u003E\\u003C/u\\u003E\\u003C/strong\\u003EWe are Element, one of the fastest growing testing, inspection, certification and calibration businesses in the world.\\u003Cbr\\u003E\\u003Cbr\\u003EWe deliver critical services in Materials Testing, Product Qualification Testing, Certification, Device Calibration and Advisory Services to the Aerospace, Oil and Gas, Transportation, Industrials, Fire and Building product, Infrastructure and other leading sectors, where failure in service is simply not an option.\\u003Cbr\\u003E\\u003Cbr\\u003EEverything we do helps our customers to build better products; get their products to market on time; save them time and money; and minimize the risk associated with product development and production.\\u003Cbr\\u003E\\u003Cbr\\u003EOur mission is simple: to be the best testing partner in the world and together we strive towards a common vision of becoming the world’s most trusted testing partner.\\u003Cbr\\u003E\\u003Cbr\\u003EWe have four values that we strive to live by every single day.\\u003Cbr\\u003E\\u003Cul\\u003E\\u003Cli\\u003ESafety - We keep our colleagues and visitors safe\\u003C/li\\u003E\\u003Cli\\u003EIntegrity - We act honestly and fairly to do the right thing\\u003C/li\\u003E\\u003Cli\\u003EExcellence - We set new standards of excellence in everything we do\\u003C/li\\u003E\\u003Cli\\u003EPartnership - We work together for the benefit of our customers\\u003Cbr\\u003E\\u003C/li\\u003E\\u003C/ul\\u003EWhen combined with our mission and vision, the ethos this creates, enables Element to deliver one thing. CERTAINTY. We exist to help make certain that the materials and products we test, inspect, certify and calibrate for our customers are safe, quality, compliant and fit for purpose.\\u003Cbr\\u003E\\u003Cbr\\u003E\\u003Cstrong\\u003E Diversity Statement \\u003Cbr\\u003E\\u003Cbr\\u003E\\u003C/strong\\u003EAt Element, we always take pride in putting our people first. We are an equal opportunity employer that recognizes diversity and inclusion as fundamental to our Vision of becoming “the world’s most trusted testing partner”.\\u003Cbr\\u003E\\u003Cbr\\u003EAll suitably qualified candidates will receive consideration for employment on the basis of objective work related criteria and without regard for the following: race, colour, age, religion, gender, national origin, disability, and/or protected veteran status, or other characteristics in accordance with the applicable governing laws.\\u003Cbr\\u003E\\u003Cbr\\u003E\\u003Cstrong\\u003EOptions\\u003Cbr\\u003E\\u003Cbr\\u003E\\u003C/strong\\u003EApply for this job online Apply\\u003Cbr\\u003E\\u003Cbr\\u003EShare\\u003Cbr\\u003E\\u003Cbr\\u003EEmail this job to a friend Refer\\u003Cbr\\u003E\\u003Cbr\\u003ESorry the Share function is not working properly at this moment. Please refresh the page and try again later.\\u003Cbr\\u003E\\u003Cbr\\u003EShare on your newsfeed\",\"employmentType\":\"OTHER\",\"experienceRequirements\":\"مستوى متوسط الأقدمية\",\"hiringOrganization\":{\"@type\":\"Organization\",\"name\":\"Element Materials Technology\",\"sameAs\":\"https://uk.linkedin.com/company/element-materials-technology\",\"logo\":\"https://media.licdn.com/dms/image/C4E0BAQEDPfkksH8Fdg/company-logo_100_100/0?e=1584576000&amp;v=beta&amp;t=Fc_63T3umXVuHzvpbT-lLxT-TSWXBpSF_6OssXJgoG0\"},\"identifier\":{\"@type\":\"PropertyValue\",\"name\":\"Element Materials Technology\",\"value\":\"4815\"},\"image\":\"https://media.licdn.com/dms/image/C4E0BAQEDPfkksH8Fdg/company-logo_100_100/0?e=1584576000&amp;v=beta&amp;t=Fc_63T3umXVuHzvpbT-lLxT-TSWXBpSF_6OssXJgoG0\",\"industry\":\"التصنيع الكهربائي والإلكتروني,الآلات,الموظفون والتوظيف\",\"jobLocation\":{\"@type\":\"Place\",\"address\":{\"@type\":\"PostalAddress\",\"streetAddress\":null,\"addressLocality\":null,\"addressRegion\":null,\"postalCode\":\"99999\",\"addressCountry\":\"OM\"}},\"skills\":\"\",\"title\":\"Department Supervisor\",\"validThrough\":\"2020-01-15T13:35:21.000Z\"}\n{\"@context\":\"http://schema.org\",\"@type\":\"JobPosting\",\"datePosted\":\"2019-12-16T12:51:47.000Z\",\"description\":\"\\u003Cstrong\\u003E\\u003Cu\\u003EOverview\\u003Cbr\\u003E\\u003Cbr\\u003E\\u003C/u\\u003E\\u003C/strong\\u003EElement has an opportunity for a \\u003Cstrong\\u003EDepartment Supervisor\\u003C/strong\\u003E. The Department Supervisor is a key member of the department's safety team and provides awareness around safety first. You will be relied upon heavily by other colleagues such as technicians, peers, Department Manager, Operations Manager, General Manager and other positions. In this role you will guide the technical staff in timely completion of daily work and may be designated as the main contact for customer on-site visits.\\u003Cbr\\u003E\\u003Cbr\\u003EPosition will be located in Duqm , Oman\\u003Cbr\\u003E\\u003Cbr\\u003E\\u003Cstrong\\u003E\\u003Cu\\u003EResponsibilities\\u003Cbr\\u003E\\u003C/u\\u003E\\u003C/strong\\u003E\\u003Cul\\u003E\\u003Cli\\u003EP&amp;amp;L responsibility for Duqm area\\u003C/li\\u003E\\u003Cli\\u003EBusiness Development responsibility for Duqm area\\u003C/li\\u003E\\u003Cli\\u003EBudget and Sales Plan development and execution for Duqm area\\u003C/li\\u003E\\u003Cli\\u003EProvide professional and timely customer service to both internal and external customers\\u003C/li\\u003E\\u003Cli\\u003EEnsure customer satisfaction through daily interaction with technicians and execution of operational jobs.\\u003C/li\\u003E\\u003Cli\\u003EProvide direct supervision of lab technical staff\\u003C/li\\u003E\\u003Cli\\u003EProvide status updates, quote assistance and other internal and external customer service responsibilities as needed\\u003C/li\\u003E\\u003Cli\\u003EWork with department supervisors, technical experts, or technicians at the local laboratory to obtain input and assist in the creation for testing scope, delivery of items needed from other support departments within the location (i.e.: design, machine shop on fixture design and creation)\\u003C/li\\u003E\\u003Cli\\u003EAssist in providing complex quotations and provide quick and accurate quotations or be part of the team that provides quotes to customers\\u003C/li\\u003E\\u003Cli\\u003EUnder the direction of the assigned Department Manager, may participate and contribute in perform supervisory responsibilities to include hiring decisions, performance management input, decisions and execution, and approval of overtime and time cards.\\u003C/li\\u003E\\u003Cli\\u003EUnderstand the customer needs in order to translate and deliver desired customer results\\u003C/li\\u003E\\u003Cli\\u003EAdhere to, support and follow all Element safety guidelines\\u003C/li\\u003E\\u003Cli\\u003EProject management, employee development, discipline, other transactional duties associated with this role\\u003Cbr\\u003E\\u003Cbr\\u003E\\u003C/li\\u003E\\u003C/ul\\u003E\\u003Cstrong\\u003E\\u003Cu\\u003ESkills / Qualifications\\u003Cbr\\u003E\\u003C/u\\u003E\\u003C/strong\\u003E\\u003Cul\\u003E\\u003Cli\\u003EA bachelor’s degree in a technical field and college level courses completed or a minimum of 3 years’ experience in a supervisory role in an industry similar or related to the Testing, Inspection and Certification (TIC) industry with a diploma or GED certificate preferred\\u003C/li\\u003E\\u003Cli\\u003EWorking knowledge of laboratory safety\\u003C/li\\u003E\\u003Cli\\u003EStrong computer skills and basic mathematical skills with the ability to apply concepts of basic algebra and geometry a plus\\u003C/li\\u003E\\u003Cli\\u003EAbility to lift &amp;lt;50 lbs. often and &amp;gt; 50 lbs. on occasion and stand on feet for long periods of time\\u003C/li\\u003E\\u003Cli\\u003EAbility to work primarily alone and make independent decisions during the course of the work day\\u003C/li\\u003E\\u003Cli\\u003EAbility to communicate and demonstrate the importance of meeting all applicable requirements of assigned department\\u003C/li\\u003E\\u003Cli\\u003EProven ability to read, understand and interpret program or test requirements and have ability to analyse and translate into finished testing or report data\\u003C/li\\u003E\\u003Cli\\u003EExcellent communication skills and telephone etiquette\\u003C/li\\u003E\\u003Cli\\u003EHigh impact of experience on the business at the local commercial, technical and operational level \\u003C/li\\u003E\\u003Cli\\u003EProven and recognized ability to provide accurate and timely status reports to internal and external customers\\u003Cbr\\u003E\\u003Cbr\\u003E\\u003C/li\\u003E\\u003C/ul\\u003E\\u003Cstrong\\u003E\\u003Cu\\u003ECompany Overview\\u003Cbr\\u003E\\u003Cbr\\u003E\\u003C/u\\u003E\\u003C/strong\\u003EWe are Element, one of the fastest growing testing, inspection, certification and calibration businesses in the world.\\u003Cbr\\u003E\\u003Cbr\\u003EWe deliver critical services in Materials Testing, Product Qualification Testing, Certification, Device Calibration and Advisory Services to the Aerospace, Oil and Gas, Transportation, Industrials, Fire and Building product, Infrastructure and other leading sectors, where failure in service is simply not an option.\\u003Cbr\\u003E\\u003Cbr\\u003EEverything we do helps our customers to build better products; get their products to market on time; save them time and money; and minimize the risk associated with product development and production.\\u003Cbr\\u003E\\u003Cbr\\u003EOur mission is simple: to be the best testing partner in the world and together we strive towards a common vision of becoming the world’s most trusted testing partner.\\u003Cbr\\u003E\\u003Cbr\\u003EWe have four values that we strive to live by every single day.\\u003Cbr\\u003E\\u003Cul\\u003E\\u003Cli\\u003ESafety - We keep our colleagues and visitors safe\\u003C/li\\u003E\\u003Cli\\u003EIntegrity - We act honestly and fairly to do the right thing\\u003C/li\\u003E\\u003Cli\\u003EExcellence - We set new standards of excellence in everything we do\\u003C/li\\u003E\\u003Cli\\u003EPartnership - We work together for the benefit of our customers\\u003Cbr\\u003E\\u003C/li\\u003E\\u003C/ul\\u003EWhen combined with our mission and vision, the ethos this creates, enables Element to deliver one thing. CERTAINTY. We exist to help make certain that the materials and products we test, inspect, certify and calibrate for our customers are safe, quality, compliant and fit for purpose.\\u003Cbr\\u003E\\u003Cbr\\u003E\\u003Cstrong\\u003E Diversity Statement \\u003Cbr\\u003E\\u003Cbr\\u003E\\u003C/strong\\u003EAt Element, we always take pride in putting our people first. We are an equal opportunity employer that recognizes diversity and inclusion as fundamental to our Vision of becoming “the world’s most trusted testing partner”.\\u003Cbr\\u003E\\u003Cbr\\u003EAll suitably qualified candidates will receive consideration for employment on the basis of objective work related criteria and without regard for the following: race, colour, age, religion, gender, national origin, disability, and/or protected veteran status, or other characteristics in accordance with the applicable governing laws.\\u003Cbr\\u003E\\u003Cbr\\u003E\\u003Cstrong\\u003EOptions\\u003Cbr\\u003E\\u003Cbr\\u003E\\u003C/strong\\u003EApply for this job online Apply\\u003Cbr\\u003E\\u003Cbr\\u003EShare\\u003Cbr\\u003E\\u003Cbr\\u003EEmail this job to a friend Refer\\u003Cbr\\u003E\\u003Cbr\\u003ESorry the Share function is not working properly at this moment. Please refresh the page and try again later.\\u003Cbr\\u003E\\u003Cbr\\u003EShare on your newsfeed\",\"employmentType\":\"OTHER\",\"experienceRequirements\":\"مستوى متوسط الأقدمية\",\"hiringOrganization\":{\"@type\":\"Organization\",\"name\":\"Element Materials Technology\",\"sameAs\":\"https://uk.linkedin.com/company/element-materials-technology\",\"logo\":\"https://media.licdn.com/dms/image/C4E0BAQEDPfkksH8Fdg/company-logo_100_100/0?e=1584576000&amp;v=beta&amp;t=Fc_63T3umXVuHzvpbT-lLxT-TSWXBpSF_6OssXJgoG0\"},\"identifier\":{\"@type\":\"PropertyValue\",\"name\":\"Element Materials Technology\",\"value\":\"4815\"},\"image\":\"https://media.licdn.com/dms/image/C4E0BAQEDPfkksH8Fdg/company-logo_100_100/0?e=1584576000&amp;v=beta&amp;t=Fc_63T3umXVuHzvpbT-lLxT-TSWXBpSF_6OssXJgoG0\",\"industry\":\"التصنيع الكهربائي والإلكتروني,الآلات,الموظفون والتوظيف\",\"jobLocation\":{\"@type\":\"Place\",\"address\":{\"@type\":\"PostalAddress\",\"streetAddress\":null,\"addressLocality\":null,\"addressRegion\":null,\"postalCode\":\"99999\",\"addressCountry\":\"OM\"}},\"skills\":\"\",\"title\":\"Department Supervisor\",\"validThrough\":\"2020-01-15T13:35:21.000Z\"}\n"
    }
   ],
   "source": [
    "test = page.find_all('script', {'type': 'application/ld+json'})\n",
    "print(type(test))\n",
    "print(test[0])\n",
    "for t in test[0]:\n",
    "    for tt in t:\n",
    "        print (t)\n"
   ]
  },
  {
   "cell_type": "code",
   "execution_count": 30,
   "metadata": {},
   "outputs": [
    {
     "data": {
      "text/plain": "{'@context': 'http://schema.org',\n '@type': 'JobPosting',\n 'datePosted': '2019-12-16T12:51:47.000Z',\n 'description': \"<strong><u>Overview<br><br></u></strong>Element has an opportunity for a <strong>Department Supervisor</strong>. The Department Supervisor is a key member of the department's safety team and provides awareness around safety first. You will be relied upon heavily by other colleagues such as technicians, peers, Department Manager, Operations Manager, General Manager and other positions. In this role you will guide the technical staff in timely completion of daily work and may be designated as the main contact for customer on-site visits.<br><br>Position will be located in Duqm , Oman<br><br><strong><u>Responsibilities<br></u></strong><ul><li>P&amp;amp;L responsibility for Duqm area</li><li>Business Development responsibility for Duqm area</li><li>Budget and Sales Plan development and execution for Duqm area</li><li>Provide professional and timely customer service to both internal and external customers</li><li>Ensure customer satisfaction through daily interaction with technicians and execution of operational jobs.</li><li>Provide direct supervision of lab technical staff</li><li>Provide status updates, quote assistance and other internal and external customer service responsibilities as needed</li><li>Work with department supervisors, technical experts, or technicians at the local laboratory to obtain input and assist in the creation for testing scope, delivery of items needed from other support departments within the location (i.e.: design, machine shop on fixture design and creation)</li><li>Assist in providing complex quotations and provide quick and accurate quotations or be part of the team that provides quotes to customers</li><li>Under the direction of the assigned Department Manager, may participate and contribute in perform supervisory responsibilities to include hiring decisions, performance management input, decisions and execution, and approval of overtime and time cards.</li><li>Understand the customer needs in order to translate and deliver desired customer results</li><li>Adhere to, support and follow all Element safety guidelines</li><li>Project management, employee development, discipline, other transactional duties associated with this role<br><br></li></ul><strong><u>Skills / Qualifications<br></u></strong><ul><li>A bachelor’s degree in a technical field and college level courses completed or a minimum of 3 years’ experience in a supervisory role in an industry similar or related to the Testing, Inspection and Certification (TIC) industry with a diploma or GED certificate preferred</li><li>Working knowledge of laboratory safety</li><li>Strong computer skills and basic mathematical skills with the ability to apply concepts of basic algebra and geometry a plus</li><li>Ability to lift &amp;lt;50 lbs. often and &amp;gt; 50 lbs. on occasion and stand on feet for long periods of time</li><li>Ability to work primarily alone and make independent decisions during the course of the work day</li><li>Ability to communicate and demonstrate the importance of meeting all applicable requirements of assigned department</li><li>Proven ability to read, understand and interpret program or test requirements and have ability to analyse and translate into finished testing or report data</li><li>Excellent communication skills and telephone etiquette</li><li>High impact of experience on the business at the local commercial, technical and operational level </li><li>Proven and recognized ability to provide accurate and timely status reports to internal and external customers<br><br></li></ul><strong><u>Company Overview<br><br></u></strong>We are Element, one of the fastest growing testing, inspection, certification and calibration businesses in the world.<br><br>We deliver critical services in Materials Testing, Product Qualification Testing, Certification, Device Calibration and Advisory Services to the Aerospace, Oil and Gas, Transportation, Industrials, Fire and Building product, Infrastructure and other leading sectors, where failure in service is simply not an option.<br><br>Everything we do helps our customers to build better products; get their products to market on time; save them time and money; and minimize the risk associated with product development and production.<br><br>Our mission is simple: to be the best testing partner in the world and together we strive towards a common vision of becoming the world’s most trusted testing partner.<br><br>We have four values that we strive to live by every single day.<br><ul><li>Safety - We keep our colleagues and visitors safe</li><li>Integrity - We act honestly and fairly to do the right thing</li><li>Excellence - We set new standards of excellence in everything we do</li><li>Partnership - We work together for the benefit of our customers<br></li></ul>When combined with our mission and vision, the ethos this creates, enables Element to deliver one thing. CERTAINTY. We exist to help make certain that the materials and products we test, inspect, certify and calibrate for our customers are safe, quality, compliant and fit for purpose.<br><br><strong> Diversity Statement <br><br></strong>At Element, we always take pride in putting our people first. We are an equal opportunity employer that recognizes diversity and inclusion as fundamental to our Vision of becoming “the world’s most trusted testing partner”.<br><br>All suitably qualified candidates will receive consideration for employment on the basis of objective work related criteria and without regard for the following: race, colour, age, religion, gender, national origin, disability, and/or protected veteran status, or other characteristics in accordance with the applicable governing laws.<br><br><strong>Options<br><br></strong>Apply for this job online Apply<br><br>Share<br><br>Email this job to a friend Refer<br><br>Sorry the Share function is not working properly at this moment. Please refresh the page and try again later.<br><br>Share on your newsfeed\",\n 'employmentType': 'OTHER',\n 'experienceRequirements': 'مستوى متوسط الأقدمية',\n 'hiringOrganization_@type': 'Organization',\n 'hiringOrganization_name': 'Element Materials Technology',\n 'hiringOrganization_sameAs': 'https://uk.linkedin.com/company/element-materials-technology',\n 'hiringOrganization_logo': 'https://media.licdn.com/dms/image/C4E0BAQEDPfkksH8Fdg/company-logo_100_100/0?e=1584576000&amp;v=beta&amp;t=Fc_63T3umXVuHzvpbT-lLxT-TSWXBpSF_6OssXJgoG0',\n 'identifier_@type': 'PropertyValue',\n 'identifier_name': 'Element Materials Technology',\n 'identifier_value': '4815',\n 'image': 'https://media.licdn.com/dms/image/C4E0BAQEDPfkksH8Fdg/company-logo_100_100/0?e=1584576000&amp;v=beta&amp;t=Fc_63T3umXVuHzvpbT-lLxT-TSWXBpSF_6OssXJgoG0',\n 'industry': 'التصنيع الكهربائي والإلكتروني,الآلات,الموظفون والتوظيف',\n 'jobLocation_@type': 'Place',\n 'jobLocation_address_@type': 'PostalAddress',\n 'jobLocation_address_streetAddress': None,\n 'jobLocation_address_addressLocality': None,\n 'jobLocation_address_addressRegion': None,\n 'jobLocation_address_postalCode': '99999',\n 'jobLocation_address_addressCountry': 'OM',\n 'skills': '',\n 'title': 'Department Supervisor',\n 'validThrough': '2020-01-15T13:35:21.000Z'}"
     },
     "execution_count": 30,
     "metadata": {},
     "output_type": "execute_result"
    }
   ],
   "source": [
    "jj = json.loads(test[0].text)\n",
    "jj = flatten_json(jj)\n",
    "jj"
   ]
  },
  {
   "cell_type": "code",
   "execution_count": 31,
   "metadata": {},
   "outputs": [
    {
     "data": {
      "text/plain": "{'@context': 'http://schema.org',\n '@type': 'JobPosting',\n 'datePosted': '2019-12-16T12:51:47.000Z',\n 'description': \"<strong><u>Overview<br><br></u></strong>Element has an opportunity for a <strong>Department Supervisor</strong>. The Department Supervisor is a key member of the department's safety team and provides awareness around safety first. You will be relied upon heavily by other colleagues such as technicians, peers, Department Manager, Operations Manager, General Manager and other positions. In this role you will guide the technical staff in timely completion of daily work and may be designated as the main contact for customer on-site visits.<br><br>Position will be located in Duqm , Oman<br><br><strong><u>Responsibilities<br></u></strong><ul><li>P&amp;amp;L responsibility for Duqm area</li><li>Business Development responsibility for Duqm area</li><li>Budget and Sales Plan development and execution for Duqm area</li><li>Provide professional and timely customer service to both internal and external customers</li><li>Ensure customer satisfaction through daily interaction with technicians and execution of operational jobs.</li><li>Provide direct supervision of lab technical staff</li><li>Provide status updates, quote assistance and other internal and external customer service responsibilities as needed</li><li>Work with department supervisors, technical experts, or technicians at the local laboratory to obtain input and assist in the creation for testing scope, delivery of items needed from other support departments within the location (i.e.: design, machine shop on fixture design and creation)</li><li>Assist in providing complex quotations and provide quick and accurate quotations or be part of the team that provides quotes to customers</li><li>Under the direction of the assigned Department Manager, may participate and contribute in perform supervisory responsibilities to include hiring decisions, performance management input, decisions and execution, and approval of overtime and time cards.</li><li>Understand the customer needs in order to translate and deliver desired customer results</li><li>Adhere to, support and follow all Element safety guidelines</li><li>Project management, employee development, discipline, other transactional duties associated with this role<br><br></li></ul><strong><u>Skills / Qualifications<br></u></strong><ul><li>A bachelor’s degree in a technical field and college level courses completed or a minimum of 3 years’ experience in a supervisory role in an industry similar or related to the Testing, Inspection and Certification (TIC) industry with a diploma or GED certificate preferred</li><li>Working knowledge of laboratory safety</li><li>Strong computer skills and basic mathematical skills with the ability to apply concepts of basic algebra and geometry a plus</li><li>Ability to lift &amp;lt;50 lbs. often and &amp;gt; 50 lbs. on occasion and stand on feet for long periods of time</li><li>Ability to work primarily alone and make independent decisions during the course of the work day</li><li>Ability to communicate and demonstrate the importance of meeting all applicable requirements of assigned department</li><li>Proven ability to read, understand and interpret program or test requirements and have ability to analyse and translate into finished testing or report data</li><li>Excellent communication skills and telephone etiquette</li><li>High impact of experience on the business at the local commercial, technical and operational level </li><li>Proven and recognized ability to provide accurate and timely status reports to internal and external customers<br><br></li></ul><strong><u>Company Overview<br><br></u></strong>We are Element, one of the fastest growing testing, inspection, certification and calibration businesses in the world.<br><br>We deliver critical services in Materials Testing, Product Qualification Testing, Certification, Device Calibration and Advisory Services to the Aerospace, Oil and Gas, Transportation, Industrials, Fire and Building product, Infrastructure and other leading sectors, where failure in service is simply not an option.<br><br>Everything we do helps our customers to build better products; get their products to market on time; save them time and money; and minimize the risk associated with product development and production.<br><br>Our mission is simple: to be the best testing partner in the world and together we strive towards a common vision of becoming the world’s most trusted testing partner.<br><br>We have four values that we strive to live by every single day.<br><ul><li>Safety - We keep our colleagues and visitors safe</li><li>Integrity - We act honestly and fairly to do the right thing</li><li>Excellence - We set new standards of excellence in everything we do</li><li>Partnership - We work together for the benefit of our customers<br></li></ul>When combined with our mission and vision, the ethos this creates, enables Element to deliver one thing. CERTAINTY. We exist to help make certain that the materials and products we test, inspect, certify and calibrate for our customers are safe, quality, compliant and fit for purpose.<br><br><strong> Diversity Statement <br><br></strong>At Element, we always take pride in putting our people first. We are an equal opportunity employer that recognizes diversity and inclusion as fundamental to our Vision of becoming “the world’s most trusted testing partner”.<br><br>All suitably qualified candidates will receive consideration for employment on the basis of objective work related criteria and without regard for the following: race, colour, age, religion, gender, national origin, disability, and/or protected veteran status, or other characteristics in accordance with the applicable governing laws.<br><br><strong>Options<br><br></strong>Apply for this job online Apply<br><br>Share<br><br>Email this job to a friend Refer<br><br>Sorry the Share function is not working properly at this moment. Please refresh the page and try again later.<br><br>Share on your newsfeed\",\n 'employmentType': 'OTHER',\n 'experienceRequirements': 'مستوى متوسط الأقدمية',\n 'hiringOrganization_@type': 'Organization',\n 'hiringOrganization_name': 'Element Materials Technology',\n 'hiringOrganization_sameAs': 'https://uk.linkedin.com/company/element-materials-technology',\n 'hiringOrganization_logo': 'https://media.licdn.com/dms/image/C4E0BAQEDPfkksH8Fdg/company-logo_100_100/0?e=1584576000&amp;v=beta&amp;t=Fc_63T3umXVuHzvpbT-lLxT-TSWXBpSF_6OssXJgoG0',\n 'identifier_@type': 'PropertyValue',\n 'identifier_name': 'Element Materials Technology',\n 'identifier_value': '4815',\n 'image': 'https://media.licdn.com/dms/image/C4E0BAQEDPfkksH8Fdg/company-logo_100_100/0?e=1584576000&amp;v=beta&amp;t=Fc_63T3umXVuHzvpbT-lLxT-TSWXBpSF_6OssXJgoG0',\n 'industry': 'التصنيع الكهربائي والإلكتروني,الآلات,الموظفون والتوظيف',\n 'jobLocation_@type': 'Place',\n 'jobLocation_address_@type': 'PostalAddress',\n 'jobLocation_address_streetAddress': None,\n 'jobLocation_address_addressLocality': None,\n 'jobLocation_address_addressRegion': None,\n 'jobLocation_address_postalCode': '99999',\n 'jobLocation_address_addressCountry': 'OM',\n 'skills': '',\n 'title': 'Department Supervisor',\n 'validThrough': '2020-01-15T13:35:21.000Z'}"
     },
     "execution_count": 31,
     "metadata": {},
     "output_type": "execute_result"
    }
   ],
   "source": [
    "df = pd.DataFrame.from_records(jj, index=[0])\n",
    "\n",
    "df.to_csv('outputfile.csv')\n",
    "jj"
   ]
  },
  {
   "cell_type": "code",
   "execution_count": 33,
   "metadata": {},
   "outputs": [],
   "source": [
    "import csv\n",
    "csv_columns = ['No','Name','Country']\n",
    "dict_data = [\n",
    "{'No': 1, 'Name': '', 'Country': 'India'},\n",
    "{'No': 2, 'Name': 'Ben', 'Country': 'USA'},\n",
    "{'No': 3, 'Name': 'Shri Ram', 'Country': 'India'},\n",
    "{'No': 4, 'Name': 'Smith', 'Country': 'USA'},\n",
    "{'No': 5, 'Name': 'Yuva Raj', 'Country': 'India'},\n",
    "]\n",
    "csv_file = \"Names.csv\"\n",
    "try:\n",
    "    with open(csv_file, 'w') as csvfile:\n",
    "        writer = csv.DictWriter(csvfile, fieldnames=csv_columns)\n",
    "        writer.writeheader()\n",
    "        for data in dict_data:\n",
    "            writer.writerow(data)\n",
    "except IOError:\n",
    "    print(\"I/O error\")"
   ]
  },
  {
   "cell_type": "markdown",
   "metadata": {},
   "source": [
    "# Testing\n"
   ]
  },
  {
   "cell_type": "code",
   "execution_count": 52,
   "metadata": {},
   "outputs": [
    {
     "name": "stderr",
     "output_type": "stream",
     "text": "/home/ozeidi/anaconda3/lib/python3.7/site-packages/ipykernel_launcher.py:11: DeprecationWarning: use options instead of chrome_options\n  # This is added back by InteractiveShellApp.init_path()\n"
    }
   ],
   "source": [
    "dirpath = os.getcwd()\n",
    "options = Options()\n",
    "options.add_argument(\"--start-maximized\")\n",
    "options.add_argument(\"--ignore-certificate-errors\")\n",
    "options.add_argument(\"user-agent=Chrome/51.0.2704.79 Safari/537.36 Edge/14.14393\")\n",
    "#options.add_argument('--headless')\n",
    "options.add_argument('--no-sandbox')\n",
    "#options.add_argument('--disable-gpu')\n",
    "#options.add_argument('disable-infobars')\n",
    "options.add_argument(\"--disable-extensions\")\n",
    "browser = webdriver.Chrome(chrome_options=options, executable_path = dirpath + \"/chromedriver\")\n",
    "\n",
    "browser.get(\"https://om.linkedin.com/jobs/view/accountant-at-oman-aviation-services-1651236076?refId=6f3261a2-3d3a-4ad6-aead-a51d83a0b6b9&position=16&pageNum=0&trk=guest_job_search_job-result-card_result-card_full-click\")"
   ]
  },
  {
   "cell_type": "code",
   "execution_count": 55,
   "metadata": {},
   "outputs": [
    {
     "data": {
      "text/plain": "'Aviation & Aerospace'"
     },
     "execution_count": 55,
     "metadata": {},
     "output_type": "execute_result"
    }
   ],
   "source": [
    "# Position\n",
    "browser.find_element_by_xpath(\"/html/body/main/section[1]/section[1]/div[1]/div[1]/h1\").text.strip()\n",
    "# Company\n",
    "browser.find_element_by_xpath(\"/html/body/main/section[1]/section[1]/div[1]/div[1]/h3[1]/span[1]/a\").text.strip()\n",
    "# Location\n",
    "browser.find_element_by_xpath(\"/html/body/main/section[1]/section[1]/div[1]/div[1]/h3[1]/span[2]\").text.strip()\n",
    "\n",
    "# No. Applicants\n",
    "browser.find_element_by_xpath(\"/html/body/main/section[1]/section[1]/div[1]/div[1]/h3[2]/figure/figcaption\").text.strip()\n",
    "\n",
    "# Seniority Level\n",
    "# browser.find_element_by_xpath(\"\").text.strip()\n",
    "browser.find_element_by_xpath(\"/html/body/main/section[1]/section[2]/ul/li[1]/span\").text.strip()\n",
    "\n",
    "#Employment Type\n",
    "browser.find_element_by_xpath(\"/html/body/main/section[1]/section[2]/ul/li[2]/span\").text.strip()\n",
    "\n",
    "# Function\n",
    "browser.find_element_by_xpath(\"/html/body/main/section[1]/section[2]/ul/li[3]/span\").text.strip()\n",
    "\n",
    "\n",
    "# Industry\n",
    "browser.find_element_by_xpath(\"/html/body/main/section[1]/section[2]/ul/li[4]/span\").text.strip()\n"
   ]
  },
  {
   "cell_type": "markdown",
   "metadata": {},
   "source": [
    "# Database Connection\n"
   ]
  },
  {
   "cell_type": "code",
   "execution_count": 81,
   "metadata": {},
   "outputs": [],
   "source": [
    "import psycopg2\n",
    "conn = psycopg2.connect(\"host=ec2-174-129-254-217.compute-1.amazonaws.com dbname=daj9b3ubq7bp3s user=kcuqkrlonouqek port=5432 password=69e1ad83317e3b92bb5145bd01c9abff9191fadb0b2e2d8a461ba83b32c3be14\")\n",
    "cur = conn.cursor()"
   ]
  },
  {
   "cell_type": "code",
   "execution_count": 13,
   "metadata": {},
   "outputs": [
    {
     "ename": "UndefinedTable",
     "evalue": "table \"users\" does not exist\n",
     "output_type": "error",
     "traceback": [
      "\u001b[0;31m---------------------------------------------------------------------------\u001b[0m",
      "\u001b[0;31mUndefinedTable\u001b[0m                            Traceback (most recent call last)",
      "\u001b[0;32m<ipython-input-13-e3afdb176463>\u001b[0m in \u001b[0;36m<module>\u001b[0;34m\u001b[0m\n\u001b[1;32m      2\u001b[0m cur.execute(\"\"\"\n\u001b[1;32m      3\u001b[0m \u001b[0mDROP\u001b[0m \u001b[0mTABLE\u001b[0m \u001b[0musers\u001b[0m\u001b[0;34m\u001b[0m\u001b[0;34m\u001b[0m\u001b[0m\n\u001b[0;32m----> 4\u001b[0;31m \"\"\")\n\u001b[0m\u001b[1;32m      5\u001b[0m \u001b[0mconn\u001b[0m\u001b[0;34m.\u001b[0m\u001b[0mcommit\u001b[0m\u001b[0;34m(\u001b[0m\u001b[0;34m)\u001b[0m\u001b[0;34m\u001b[0m\u001b[0;34m\u001b[0m\u001b[0m\n",
      "\u001b[0;31mUndefinedTable\u001b[0m: table \"users\" does not exist\n"
     ]
    }
   ],
   "source": [
    "conn.rollback()\n",
    "cur.execute(\"\"\"\n",
    "CREATE TABLE users(\n",
    "id integer PRIMARY KEY,\n",
    "email text,\n",
    "name text,\n",
    "address text)\n",
    "\"\"\")\n",
    "conn.commit()"
   ]
  },
  {
   "cell_type": "code",
   "execution_count": 67,
   "metadata": {},
   "outputs": [],
   "source": [
    "conn = psycopg2.connect(\"host=localhost dbname=linkedin user=ozeidi password=WadiFida.net1\")\n",
    "cur = conn.cursor()"
   ]
  },
  {
   "cell_type": "code",
   "execution_count": 68,
   "metadata": {},
   "outputs": [],
   "source": []
  },
  {
   "cell_type": "code",
   "execution_count": 82,
   "metadata": {},
   "outputs": [],
   "source": [
    "\n",
    "cur.execute(\"\"\"DROP TABLE IF EXISTS Workforce;\"\"\")\n",
    "\n",
    "cur.execute(\"\"\"\n",
    "CREATE TABLE Workforce (\n",
    "id              SERIAL PRIMARY KEY,\n",
    "Timestamp      TIMESTAMP NOT NULL,\n",
    "url            TEXT NOT NULL,\n",
    "position       TEXT ,\n",
    "company        TEXT ,\n",
    "location      TEXT ,\n",
    "post_date      TEXT,\n",
    "no_applicants      TEXT,\n",
    "job_description      TEXT,\n",
    "seniority      TEXT,\n",
    "industry      TEXT ,\n",
    "employment_type     TEXT,\n",
    "functions      TEXT,\n",
    "company_description      TEXT\n",
    ")\n",
    "\"\"\")\n",
    "conn.commit()"
   ]
  },
  {
   "cell_type": "code",
   "execution_count": 83,
   "metadata": {},
   "outputs": [
    {
     "data": {
      "text/plain": "[]"
     },
     "execution_count": 83,
     "metadata": {},
     "output_type": "execute_result"
    }
   ],
   "source": [
    "cur.execute(\"\"\"\n",
    "SELECT * FROM Workforce\n",
    "\"\"\")\n",
    "\n",
    "cur.fetchall()"
   ]
  },
  {
   "cell_type": "code",
   "execution_count": 84,
   "metadata": {},
   "outputs": [
    {
     "data": {
      "text/plain": "[('public', 'workforce', 'kcuqkrlonouqek', None, True, False, False, False)]"
     },
     "execution_count": 84,
     "metadata": {},
     "output_type": "execute_result"
    }
   ],
   "source": [
    "# list all tables\n",
    "cur.execute(\"\"\"\n",
    "SELECT\n",
    "   *\n",
    "FROM\n",
    "   pg_catalog.pg_tables\n",
    "WHERE\n",
    "   schemaname != 'pg_catalog'\n",
    "AND schemaname != 'information_schema';\n",
    "\"\"\")\n",
    "\n",
    "cur.fetchall()\n"
   ]
  },
  {
   "cell_type": "code",
   "execution_count": null,
   "metadata": {},
   "outputs": [],
   "source": []
  }
 ],
 "metadata": {
  "language_info": {
   "name": "python",
   "codemirror_mode": {
    "name": "ipython",
    "version": 3
   },
   "version": "3.8.2-final"
  },
  "orig_nbformat": 2,
  "file_extension": ".py",
  "mimetype": "text/x-python",
  "name": "python",
  "npconvert_exporter": "python",
  "pygments_lexer": "ipython3",
  "version": 3,
  "kernelspec": {
   "name": "python38264bitscrapervenv24001e7a8cf6431d830ad1e33802f0b9",
   "display_name": "Python 3.8.2 64-bit ('scraper': venv)"
  }
 },
 "nbformat": 4,
 "nbformat_minor": 2
}